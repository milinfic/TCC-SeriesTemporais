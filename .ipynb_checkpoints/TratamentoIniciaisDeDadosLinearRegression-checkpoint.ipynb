{
 "cells": [
  {
   "cell_type": "markdown",
   "metadata": {
    "id": "m6PB5UQhyJP0"
   },
   "source": [
    "# **Analise de predição de dados de volumes financeiro da bolsa de Nova York.**\n",
    "\n",
    "Dados obtidos de mostra estatísticas históricas de negociação da Bolsa de Nova York Intercâmbio. São mostradas três séries temporais diárias cobrindo o período de 3 de dezembro de 1962 a 31 de dezembro de 1986:"
   ]
  },
  {
   "cell_type": "markdown",
   "metadata": {
    "id": "4t2TdKUez6fZ"
   },
   "source": [
    "#Criando um método para receber os dados e criando um dataframe\n",
    "\n",
    "> Os dados serão separados em dois grupos: \n",
    "grupo de treinamento (df_train) e de teste(df_test).\n",
    "\n",
    "> O dataframe (**df**) possui uma coluna chamada \"**train**\", \n",
    "nessa coluna possui os dados **true** ou **false**, \n",
    "sendo true os dados para treinamento e false os dados para teste.\n",
    "\n",
    "> Separamos os dados de predição (target) com a lógica de tempo de atraso, ou seja, os itens terão uma quantidade de dados de entrada, essa quantidade será determinada com a variável L_lag(atraso).\n",
    "\n",
    "Exemplo:\n",
    "><div>\n",
    "df = [a,b,c,d,e,f,g] <br>\n",
    "x1 = [a,b,c] lag1= [d] <br>\n",
    "x2 = [b,c,d] lag2= [e] <br>\n",
    "x3 = [c,d,e] lag3= [f] <br>\n",
    "x4 = [d,e,f] lag4= [g] <br>\n",
    "<div>"
   ]
  },
  {
   "cell_type": "code",
   "execution_count": 1,
   "metadata": {
    "colab": {
     "base_uri": "https://localhost:8080/",
     "height": 341
    },
    "executionInfo": {
     "elapsed": 463,
     "status": "error",
     "timestamp": 1672242297185,
     "user": {
      "displayName": "Paulo Alves (Milinfic)",
      "userId": "08449335198685917552"
     },
     "user_tz": 180
    },
    "id": "8zHdbs2A0V6p",
    "outputId": "b61bceba-b81d-4d61-f455-dc3024c82e6a"
   },
   "outputs": [],
   "source": [
    "import pandas as pd\n",
    "import numpy as np\n",
    "\n",
    "import carregaDataset"
   ]
  },
  {
   "cell_type": "markdown",
   "metadata": {
    "id": "TDOtVUC52_U8"
   },
   "source": [
    "# O treinamento será efetuado com dados obtidos anteriormente, nesse estudo, iremos utilizar esses dados para predizer o próximo dia.\n",
    "\n",
    "Efetuado o teste com sklearn LinnearRegression\n",
    "\n"
   ]
  },
  {
   "cell_type": "code",
   "execution_count": 3,
   "metadata": {
    "executionInfo": {
     "elapsed": 11,
     "status": "aborted",
     "timestamp": 1672242297186,
     "user": {
      "displayName": "Paulo Alves (Milinfic)",
      "userId": "08449335198685917552"
     },
     "user_tz": 180
    },
    "id": "BQwROJIg21l_"
   },
   "outputs": [
    {
     "ename": "ValueError",
     "evalue": "Length mismatch: Expected axis has 3 elements, new values have 15 elements",
     "output_type": "error",
     "traceback": [
      "\u001b[0;31m---------------------------------------------------------------------------\u001b[0m",
      "\u001b[0;31mValueError\u001b[0m                                Traceback (most recent call last)",
      "\u001b[0;32m/tmp/ipykernel_5146/1849167636.py\u001b[0m in \u001b[0;36m<module>\u001b[0;34m\u001b[0m\n\u001b[1;32m      7\u001b[0m \u001b[0;32mfor\u001b[0m \u001b[0mi\u001b[0m \u001b[0;32min\u001b[0m \u001b[0mrange\u001b[0m\u001b[0;34m(\u001b[0m\u001b[0;36m100\u001b[0m\u001b[0;34m)\u001b[0m\u001b[0;34m:\u001b[0m\u001b[0;34m\u001b[0m\u001b[0;34m\u001b[0m\u001b[0m\n\u001b[1;32m      8\u001b[0m     \u001b[0mLag\u001b[0m\u001b[0;34m.\u001b[0m\u001b[0mappend\u001b[0m\u001b[0;34m(\u001b[0m\u001b[0mi\u001b[0m\u001b[0;34m+\u001b[0m\u001b[0;36m1\u001b[0m\u001b[0;34m)\u001b[0m\u001b[0;34m\u001b[0m\u001b[0;34m\u001b[0m\u001b[0m\n\u001b[0;32m----> 9\u001b[0;31m     \u001b[0mx_train\u001b[0m\u001b[0;34m,\u001b[0m \u001b[0my_train\u001b[0m\u001b[0;34m,\u001b[0m \u001b[0mx_test\u001b[0m\u001b[0;34m,\u001b[0m \u001b[0my_test\u001b[0m \u001b[0;34m=\u001b[0m \u001b[0mcarregaDataset\u001b[0m\u001b[0;34m.\u001b[0m\u001b[0mnysedf\u001b[0m\u001b[0;34m(\u001b[0m\u001b[0mdf\u001b[0m\u001b[0;34m,\u001b[0m \u001b[0mLag\u001b[0m\u001b[0;34m[\u001b[0m\u001b[0mi\u001b[0m\u001b[0;34m]\u001b[0m\u001b[0;34m)\u001b[0m\u001b[0;34m\u001b[0m\u001b[0;34m\u001b[0m\u001b[0m\n\u001b[0m\u001b[1;32m     10\u001b[0m     \u001b[0mmodel\u001b[0m \u001b[0;34m=\u001b[0m \u001b[0mLinearRegression\u001b[0m\u001b[0;34m(\u001b[0m\u001b[0;34m)\u001b[0m\u001b[0;34m\u001b[0m\u001b[0;34m\u001b[0m\u001b[0m\n\u001b[1;32m     11\u001b[0m     \u001b[0mmodel\u001b[0m\u001b[0;34m.\u001b[0m\u001b[0mfit\u001b[0m\u001b[0;34m(\u001b[0m\u001b[0mx_train\u001b[0m\u001b[0;34m,\u001b[0m \u001b[0my_train\u001b[0m\u001b[0;34m)\u001b[0m\u001b[0;34m\u001b[0m\u001b[0;34m\u001b[0m\u001b[0m\n",
      "\u001b[0;32m~/IaJupyter/TCC-Séries-Temporais/carregaDataset.py\u001b[0m in \u001b[0;36mnysedf\u001b[0;34m(df, L_lag)\u001b[0m\n\u001b[1;32m    193\u001b[0m     \u001b[0mx_test\u001b[0m\u001b[0;34m.\u001b[0m\u001b[0mdrop\u001b[0m\u001b[0;34m(\u001b[0m\u001b[0mlabels\u001b[0m\u001b[0;34m=\u001b[0m\u001b[0;34m(\u001b[0m\u001b[0mlen\u001b[0m\u001b[0;34m(\u001b[0m\u001b[0mx_test\u001b[0m\u001b[0;34m)\u001b[0m\u001b[0;34m-\u001b[0m\u001b[0;36m1\u001b[0m\u001b[0;34m)\u001b[0m\u001b[0;34m,\u001b[0m \u001b[0maxis\u001b[0m\u001b[0;34m=\u001b[0m\u001b[0;36m0\u001b[0m\u001b[0;34m,\u001b[0m \u001b[0minplace\u001b[0m\u001b[0;34m=\u001b[0m\u001b[0;32mTrue\u001b[0m\u001b[0;34m)\u001b[0m\u001b[0;34m\u001b[0m\u001b[0;34m\u001b[0m\u001b[0m\n\u001b[1;32m    194\u001b[0m \u001b[0;34m\u001b[0m\u001b[0m\n\u001b[0;32m--> 195\u001b[0;31m     \u001b[0mx_train\u001b[0m\u001b[0;34m.\u001b[0m\u001b[0mcolumns\u001b[0m \u001b[0;34m=\u001b[0m \u001b[0;34m[\u001b[0m\u001b[0;34m'Vt-5'\u001b[0m\u001b[0;34m,\u001b[0m \u001b[0;34m'Vt-4'\u001b[0m\u001b[0;34m,\u001b[0m \u001b[0;34m'Vt-3'\u001b[0m\u001b[0;34m,\u001b[0m \u001b[0;34m'Vt-2'\u001b[0m\u001b[0;34m,\u001b[0m \u001b[0;34m'Vt-1'\u001b[0m\u001b[0;34m,\u001b[0m \u001b[0;34m'Rt-5'\u001b[0m\u001b[0;34m,\u001b[0m \u001b[0;34m'Rt-4'\u001b[0m\u001b[0;34m,\u001b[0m \u001b[0;34m'Rt-3'\u001b[0m \u001b[0;34m,\u001b[0m \u001b[0;34m'Rt-2'\u001b[0m \u001b[0;34m,\u001b[0m \u001b[0;34m'Rt-1'\u001b[0m\u001b[0;34m,\u001b[0m \u001b[0;34m'Zt-5'\u001b[0m\u001b[0;34m,\u001b[0m \u001b[0;34m'Zt-4'\u001b[0m\u001b[0;34m,\u001b[0m \u001b[0;34m'Zt-3'\u001b[0m\u001b[0;34m,\u001b[0m \u001b[0;34m'Zt-2'\u001b[0m\u001b[0;34m,\u001b[0m \u001b[0;34m'Zt-1'\u001b[0m\u001b[0;34m]\u001b[0m\u001b[0;34m\u001b[0m\u001b[0;34m\u001b[0m\u001b[0m\n\u001b[0m\u001b[1;32m    196\u001b[0m     \u001b[0mx_test\u001b[0m\u001b[0;34m.\u001b[0m\u001b[0mcolumns\u001b[0m \u001b[0;34m=\u001b[0m \u001b[0;34m[\u001b[0m\u001b[0;34m'Vt-5'\u001b[0m\u001b[0;34m,\u001b[0m \u001b[0;34m'Vt-4'\u001b[0m\u001b[0;34m,\u001b[0m \u001b[0;34m'Vt-3'\u001b[0m\u001b[0;34m,\u001b[0m \u001b[0;34m'Vt-2'\u001b[0m\u001b[0;34m,\u001b[0m \u001b[0;34m'Vt-1'\u001b[0m\u001b[0;34m,\u001b[0m \u001b[0;34m'Rt-5'\u001b[0m\u001b[0;34m,\u001b[0m \u001b[0;34m'Rt-4'\u001b[0m\u001b[0;34m,\u001b[0m \u001b[0;34m'Rt-3'\u001b[0m \u001b[0;34m,\u001b[0m \u001b[0;34m'Rt-2'\u001b[0m \u001b[0;34m,\u001b[0m \u001b[0;34m'Rt-1'\u001b[0m\u001b[0;34m,\u001b[0m \u001b[0;34m'Zt-5'\u001b[0m\u001b[0;34m,\u001b[0m \u001b[0;34m'Zt-4'\u001b[0m\u001b[0;34m,\u001b[0m \u001b[0;34m'Zt-3'\u001b[0m\u001b[0;34m,\u001b[0m \u001b[0;34m'Zt-2'\u001b[0m\u001b[0;34m,\u001b[0m \u001b[0;34m'Zt-1'\u001b[0m\u001b[0;34m]\u001b[0m\u001b[0;34m\u001b[0m\u001b[0;34m\u001b[0m\u001b[0m\n\u001b[1;32m    197\u001b[0m \u001b[0;34m\u001b[0m\u001b[0m\n",
      "\u001b[0;32m~/PREFIX=/home/lib/python3.9/site-packages/pandas/core/generic.py\u001b[0m in \u001b[0;36m__setattr__\u001b[0;34m(self, name, value)\u001b[0m\n\u001b[1;32m   5586\u001b[0m         \u001b[0;32mtry\u001b[0m\u001b[0;34m:\u001b[0m\u001b[0;34m\u001b[0m\u001b[0;34m\u001b[0m\u001b[0m\n\u001b[1;32m   5587\u001b[0m             \u001b[0mobject\u001b[0m\u001b[0;34m.\u001b[0m\u001b[0m__getattribute__\u001b[0m\u001b[0;34m(\u001b[0m\u001b[0mself\u001b[0m\u001b[0;34m,\u001b[0m \u001b[0mname\u001b[0m\u001b[0;34m)\u001b[0m\u001b[0;34m\u001b[0m\u001b[0;34m\u001b[0m\u001b[0m\n\u001b[0;32m-> 5588\u001b[0;31m             \u001b[0;32mreturn\u001b[0m \u001b[0mobject\u001b[0m\u001b[0;34m.\u001b[0m\u001b[0m__setattr__\u001b[0m\u001b[0;34m(\u001b[0m\u001b[0mself\u001b[0m\u001b[0;34m,\u001b[0m \u001b[0mname\u001b[0m\u001b[0;34m,\u001b[0m \u001b[0mvalue\u001b[0m\u001b[0;34m)\u001b[0m\u001b[0;34m\u001b[0m\u001b[0;34m\u001b[0m\u001b[0m\n\u001b[0m\u001b[1;32m   5589\u001b[0m         \u001b[0;32mexcept\u001b[0m \u001b[0mAttributeError\u001b[0m\u001b[0;34m:\u001b[0m\u001b[0;34m\u001b[0m\u001b[0;34m\u001b[0m\u001b[0m\n\u001b[1;32m   5590\u001b[0m             \u001b[0;32mpass\u001b[0m\u001b[0;34m\u001b[0m\u001b[0;34m\u001b[0m\u001b[0m\n",
      "\u001b[0;32m~/PREFIX=/home/lib/python3.9/site-packages/pandas/_libs/properties.pyx\u001b[0m in \u001b[0;36mpandas._libs.properties.AxisProperty.__set__\u001b[0;34m()\u001b[0m\n",
      "\u001b[0;32m~/PREFIX=/home/lib/python3.9/site-packages/pandas/core/generic.py\u001b[0m in \u001b[0;36m_set_axis\u001b[0;34m(self, axis, labels)\u001b[0m\n\u001b[1;32m    767\u001b[0m     \u001b[0;32mdef\u001b[0m \u001b[0m_set_axis\u001b[0m\u001b[0;34m(\u001b[0m\u001b[0mself\u001b[0m\u001b[0;34m,\u001b[0m \u001b[0maxis\u001b[0m\u001b[0;34m:\u001b[0m \u001b[0mint\u001b[0m\u001b[0;34m,\u001b[0m \u001b[0mlabels\u001b[0m\u001b[0;34m:\u001b[0m \u001b[0mIndex\u001b[0m\u001b[0;34m)\u001b[0m \u001b[0;34m->\u001b[0m \u001b[0;32mNone\u001b[0m\u001b[0;34m:\u001b[0m\u001b[0;34m\u001b[0m\u001b[0;34m\u001b[0m\u001b[0m\n\u001b[1;32m    768\u001b[0m         \u001b[0mlabels\u001b[0m \u001b[0;34m=\u001b[0m \u001b[0mensure_index\u001b[0m\u001b[0;34m(\u001b[0m\u001b[0mlabels\u001b[0m\u001b[0;34m)\u001b[0m\u001b[0;34m\u001b[0m\u001b[0;34m\u001b[0m\u001b[0m\n\u001b[0;32m--> 769\u001b[0;31m         \u001b[0mself\u001b[0m\u001b[0;34m.\u001b[0m\u001b[0m_mgr\u001b[0m\u001b[0;34m.\u001b[0m\u001b[0mset_axis\u001b[0m\u001b[0;34m(\u001b[0m\u001b[0maxis\u001b[0m\u001b[0;34m,\u001b[0m \u001b[0mlabels\u001b[0m\u001b[0;34m)\u001b[0m\u001b[0;34m\u001b[0m\u001b[0;34m\u001b[0m\u001b[0m\n\u001b[0m\u001b[1;32m    770\u001b[0m         \u001b[0mself\u001b[0m\u001b[0;34m.\u001b[0m\u001b[0m_clear_item_cache\u001b[0m\u001b[0;34m(\u001b[0m\u001b[0;34m)\u001b[0m\u001b[0;34m\u001b[0m\u001b[0;34m\u001b[0m\u001b[0m\n\u001b[1;32m    771\u001b[0m \u001b[0;34m\u001b[0m\u001b[0m\n",
      "\u001b[0;32m~/PREFIX=/home/lib/python3.9/site-packages/pandas/core/internals/managers.py\u001b[0m in \u001b[0;36mset_axis\u001b[0;34m(self, axis, new_labels)\u001b[0m\n\u001b[1;32m    212\u001b[0m     \u001b[0;32mdef\u001b[0m \u001b[0mset_axis\u001b[0m\u001b[0;34m(\u001b[0m\u001b[0mself\u001b[0m\u001b[0;34m,\u001b[0m \u001b[0maxis\u001b[0m\u001b[0;34m:\u001b[0m \u001b[0mint\u001b[0m\u001b[0;34m,\u001b[0m \u001b[0mnew_labels\u001b[0m\u001b[0;34m:\u001b[0m \u001b[0mIndex\u001b[0m\u001b[0;34m)\u001b[0m \u001b[0;34m->\u001b[0m \u001b[0;32mNone\u001b[0m\u001b[0;34m:\u001b[0m\u001b[0;34m\u001b[0m\u001b[0;34m\u001b[0m\u001b[0m\n\u001b[1;32m    213\u001b[0m         \u001b[0;31m# Caller is responsible for ensuring we have an Index object.\u001b[0m\u001b[0;34m\u001b[0m\u001b[0;34m\u001b[0m\u001b[0m\n\u001b[0;32m--> 214\u001b[0;31m         \u001b[0mself\u001b[0m\u001b[0;34m.\u001b[0m\u001b[0m_validate_set_axis\u001b[0m\u001b[0;34m(\u001b[0m\u001b[0maxis\u001b[0m\u001b[0;34m,\u001b[0m \u001b[0mnew_labels\u001b[0m\u001b[0;34m)\u001b[0m\u001b[0;34m\u001b[0m\u001b[0;34m\u001b[0m\u001b[0m\n\u001b[0m\u001b[1;32m    215\u001b[0m         \u001b[0mself\u001b[0m\u001b[0;34m.\u001b[0m\u001b[0maxes\u001b[0m\u001b[0;34m[\u001b[0m\u001b[0maxis\u001b[0m\u001b[0;34m]\u001b[0m \u001b[0;34m=\u001b[0m \u001b[0mnew_labels\u001b[0m\u001b[0;34m\u001b[0m\u001b[0;34m\u001b[0m\u001b[0m\n\u001b[1;32m    216\u001b[0m \u001b[0;34m\u001b[0m\u001b[0m\n",
      "\u001b[0;32m~/PREFIX=/home/lib/python3.9/site-packages/pandas/core/internals/base.py\u001b[0m in \u001b[0;36m_validate_set_axis\u001b[0;34m(self, axis, new_labels)\u001b[0m\n\u001b[1;32m     67\u001b[0m \u001b[0;34m\u001b[0m\u001b[0m\n\u001b[1;32m     68\u001b[0m         \u001b[0;32melif\u001b[0m \u001b[0mnew_len\u001b[0m \u001b[0;34m!=\u001b[0m \u001b[0mold_len\u001b[0m\u001b[0;34m:\u001b[0m\u001b[0;34m\u001b[0m\u001b[0;34m\u001b[0m\u001b[0m\n\u001b[0;32m---> 69\u001b[0;31m             raise ValueError(\n\u001b[0m\u001b[1;32m     70\u001b[0m                 \u001b[0;34mf\"Length mismatch: Expected axis has {old_len} elements, new \"\u001b[0m\u001b[0;34m\u001b[0m\u001b[0;34m\u001b[0m\u001b[0m\n\u001b[1;32m     71\u001b[0m                 \u001b[0;34mf\"values have {new_len} elements\"\u001b[0m\u001b[0;34m\u001b[0m\u001b[0;34m\u001b[0m\u001b[0m\n",
      "\u001b[0;31mValueError\u001b[0m: Length mismatch: Expected axis has 3 elements, new values have 15 elements"
     ]
    }
   ],
   "source": [
    "from sklearn.linear_model import LinearRegression\n",
    "df = carregaDataset.UpdateBeta(0.90)\n",
    "Lag = []\n",
    "ScoreTrain = []\n",
    "ScoreTest = []\n",
    "\n",
    "for i in range(100):\n",
    "    Lag.append(i+1)\n",
    "    x_train, y_train, x_test, y_test = carregaDataset.nysedf(df, Lag[i]) \n",
    "    model = LinearRegression()\n",
    "    model.fit(x_train, y_train)\n",
    "    ScoreTrain.append(model.score(x_train, y_train))\n",
    "    ScoreTest.append(model.score(x_test,y_test))\n",
    "\n",
    "y_pred = model.predict(x_test)"
   ]
  },
  {
   "cell_type": "markdown",
   "metadata": {
    "id": "_b4OYk7VcdP0"
   },
   "source": [
    "# Apresentando o gráfico de comparação com dados de saída esperado(Real) e o dados previsto."
   ]
  },
  {
   "cell_type": "code",
   "execution_count": null,
   "metadata": {
    "executionInfo": {
     "elapsed": 11,
     "status": "aborted",
     "timestamp": 1672242297187,
     "user": {
      "displayName": "Paulo Alves (Milinfic)",
      "userId": "08449335198685917552"
     },
     "user_tz": 180
    },
    "id": "5Y5TCNZ0ZzWA"
   },
   "outputs": [],
   "source": [
    "from matplotlib import font_manager\n",
    "import matplotlib.pyplot as plt\n",
    "\n",
    "font1 = {'family':'serif','color':'black','size':15}\n",
    "font2 = {'family':'serif','color':'darkred','size':20}\n",
    "\n",
    "plt.figure(figsize=(16,4))\n",
    "\n",
    "plt.title(\"Saída de Real vs Treinamento\", fontdict = font2)\n",
    "plt.ylabel(\"log_volume\", fontdict = font1)\n",
    "plt.xlabel(\"Dias\", fontdict = font1)\n",
    "\n",
    "plt.plot(y_test, color='gray')\n",
    "\n",
    "plt.plot(y_pred, color='blue')\n",
    "\n",
    "plt.xlim(0, 150)\n",
    "                           \n",
    "plt.legend(['Conjunto de saída esperada', 'Conjunto de sáida prevista'])\n",
    "plt.show()"
   ]
  },
  {
   "cell_type": "markdown",
   "metadata": {
    "id": "NJuKwpsHdF06"
   },
   "source": [
    "# Apresentando o gráfico de comparação de Score de Treinamento e de Teste\n",
    "\n",
    "Podemos perceber que a melhor definição de lag(dias de atraso para entrada de dados) foi de 5 dias."
   ]
  },
  {
   "cell_type": "code",
   "execution_count": null,
   "metadata": {
    "executionInfo": {
     "elapsed": 12,
     "status": "aborted",
     "timestamp": 1672242297188,
     "user": {
      "displayName": "Paulo Alves (Milinfic)",
      "userId": "08449335198685917552"
     },
     "user_tz": 180
    },
    "id": "prcUomWnHrNa"
   },
   "outputs": [],
   "source": [
    "plt.figure(figsize=(16,4))\n",
    "\n",
    "plt.title(\"Scores de treinamentos e testes com lags diários\", fontdict = font2)\n",
    "plt.ylabel(\"R²\", fontdict = font1)\n",
    "plt.xlabel(\"Lags (Dias)\", fontdict = font1)\n",
    "\n",
    "plt.plot(ScoreTrain,marker ='o')\n",
    "plt.plot(ScoreTest, marker ='o')\n",
    "plt.grid()\n",
    "plt.xlim(0,20)\n",
    "\n",
    "plt.legend(['Score de Treinamento', 'Score de Teste'])\n",
    "plt.show()"
   ]
  },
  {
   "cell_type": "markdown",
   "metadata": {
    "id": "xYO7fFeudrw7"
   },
   "source": [
    "# Apresentando o gráfico de comparação Semanal de Score de Treinamento e de Teste"
   ]
  },
  {
   "cell_type": "code",
   "execution_count": null,
   "metadata": {
    "executionInfo": {
     "elapsed": 10,
     "status": "aborted",
     "timestamp": 1672242297188,
     "user": {
      "displayName": "Paulo Alves (Milinfic)",
      "userId": "08449335198685917552"
     },
     "user_tz": 180
    },
    "id": "DBmXNfAcZKB5"
   },
   "outputs": [],
   "source": [
    "plt.figure(figsize=(16,4))\n",
    "\n",
    "plt.title(\"Scores R² de testes\", fontdict = font2)\n",
    "plt.ylabel(\"R²\", fontdict = font1)\n",
    "plt.xlabel(\"Quantidade de dados de entrada\", fontdict = font1)\n",
    "\n",
    "x = []\n",
    "y = []\n",
    "z = 0\n",
    "\n",
    "for i in ScoreTest:\n",
    "    z+=1    \n",
    "    if z < 30:\n",
    "        x.append(z)\n",
    "        y.append(i)\n",
    "\n",
    "plt.bar(x, y, width=0.4)\n",
    "plt.xlim(0.4,30)\n",
    "\n",
    "plt.show()"
   ]
  }
 ],
 "metadata": {
  "colab": {
   "provenance": []
  },
  "kernelspec": {
   "display_name": "Python 3 (ipykernel)",
   "language": "python",
   "name": "python3"
  },
  "language_info": {
   "codemirror_mode": {
    "name": "ipython",
    "version": 3
   },
   "file_extension": ".py",
   "mimetype": "text/x-python",
   "name": "python",
   "nbconvert_exporter": "python",
   "pygments_lexer": "ipython3",
   "version": "3.9.13"
  }
 },
 "nbformat": 4,
 "nbformat_minor": 1
}
